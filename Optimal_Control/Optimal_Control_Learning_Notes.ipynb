{
 "cells": [
  {
   "cell_type": "markdown",
   "id": "525739c5",
   "metadata": {},
   "source": [
    "# Optimal Control (Qing Wang from BUAA)"
   ]
  },
  {
   "cell_type": "markdown",
   "id": "bddbb337",
   "metadata": {},
   "source": [
    "# Part 1. Calculus of variations"
   ]
  },
  {
   "cell_type": "markdown",
   "id": "79ff9175",
   "metadata": {},
   "source": [
    "1. What is a functional?\n",
    "\n",
    "The first concept to settle is Functional. Define $t$ to be the time and $x(t)$ to be a time-related function. If we define a new function $J$ that uses $x(t)$ as its variable, then $J=J[x(t)]$ is called a functional. In short, functional is the function of a function.\n"
   ]
  },
  {
   "cell_type": "markdown",
   "id": "9bc4d390",
   "metadata": {},
   "source": [
    "2. What is variation?\n",
    "\n",
    "In this course, we need to pay attention to two kinds of variation. \n",
    "> Variation of a function\n",
    "\n",
    "Define two functions $X_1(t)$ and $X_2(t)$,\n",
    "then the variation $\\delta X$ is given as \n",
    "\n",
    "\\begin{equation}\n",
    "    \\delta X = X_1(t) - X_2(t)\n",
    "\\end{equation}\n",
    "> Variation of a functional\n",
    "\n",
    "When the function $X(t)$ has the variation of $\\delta X$,\n",
    "then the corresponding functional will change:\n",
    "\\begin{equation}\n",
    "\\begin{aligned}\n",
    "    \\Delta J & = J[X + \\delta X] - J[x] \\\\\n",
    "    & = \\delta J[X, \\delta X] + \\epsilon \\|\\delta X\\|\n",
    "\\end{aligned}  \n",
    "\\end{equation}\n",
    "where $\\delta J[X, \\delta X]$ is the linear functional of $\\delta X$. \n",
    "If we have $\\epsilon \\rightarrow 0$ when $\\|\\delta X\\| \\rightarrow 0$,\n",
    "then $\\delta J[X, \\delta X]$ is the variation of $J[X]$ and $\\delta J[X, \\delta X]$ is the principal linear part of $\\Delta J$. \n",
    "\n",
    "Of course,\n",
    "if $X = X^*$ is the extremum of functional $J(X(t))$,\n",
    "then it is compulsory to have $\\delta J[X^*, \\delta X] = 0$."
   ]
  },
  {
   "cell_type": "markdown",
   "id": "8e635a37",
   "metadata": {},
   "source": [
    "# Part 2. Variation theory on functional extremum (When there are no extra conditions)"
   ]
  },
  {
   "cell_type": "markdown",
   "id": "5333b8eb",
   "metadata": {},
   "source": [
    "Suppose we want to find an optimal curve $x(t) = x^*(t)$ that can achieve extremum regarding the following cost function:\n",
    "\\begin{equation}\n",
    "    J = \\int_{t_0}^{t_f} F[x(t), \\dot{x}(t), t] dt\n",
    "\\end{equation}\n",
    "\n",
    "Consider minor variation of $\\delta x$ and $\\delta \\dot{x}$ around the optimal curve $x(t)$ and $\\dot{x}(t)$,\n",
    "then we have\n",
    "\\begin{align*}\n",
    "   & x(t) = x^{*}(t) + \\delta x\\\\\n",
    "   & \\dot{x}(t) = \\dot{x}^{*}(t) + \\delta \\dot{x}\\\\\n",
    "\\end{align*}\n",
    "\n",
    "After certain calculation,\n",
    "the variation of the functional is given as\n",
    "\\begin{equation}\n",
    "    \\delta J = \\int_{t_0}^{t_f} \\bigg[\\frac{\\partial F}{\\partial x} - \\frac{d}{dt}\\bigg(\\frac{\\partial F}{\\partial \\dot{x}} \\bigg) \\bigg] \\delta x dt + \\frac{\\partial F}{\\partial \\dot{x}} \\bigg|_{t_{0}}^{t_f}\n",
    "\\end{equation}\n",
    "where $t_f$ is the terminal time. \n",
    "\n",
    "To obtain the optimal curve,\n",
    "we need to have $J = 0$.\n",
    "Hence,\n",
    "it is always necessary to have \n",
    "\\begin{align*}\n",
    "    \\frac{\\partial F}{\\partial x} - \\frac{d}{dt}\\bigg(\\frac{\\partial F}{\\partial \\dot{x}} \\bigg) = 0\n",
    "\\end{align*}\n",
    "\n",
    "Regarding the second part of expression of $\\delta J$,\n",
    "there are two different cases:"
   ]
  },
  {
   "cell_type": "markdown",
   "id": "493fe5ce",
   "metadata": {},
   "source": [
    "> The terminal is fixed\n",
    "\n",
    "We have $x(t_0) = x_0$, $x(t_f) = x_f$ and $\\delta x(t_0) = \\delta x(t_f) = 0$,\n",
    "Accordingly,\n",
    "we have \n",
    "\\begin{align*}\n",
    "    \\frac{\\partial F}{\\partial \\dot{x}} \\bigg|_{t_{0}}^{t_f} = \\bigg( \\frac{\\partial F}{\\partial \\dot{x}}\\bigg)_{t_f} \\delta x(t_f) - \\bigg( \\frac{\\partial F}{\\partial \\dot{x}}\\bigg)_{t_0} \\delta x(t_0) = 0\n",
    "\\end{align*}\n",
    "\n",
    "Hence, no further requirements need to be made. "
   ]
  },
  {
   "cell_type": "markdown",
   "id": "9a6c6c81",
   "metadata": {},
   "source": [
    "> The terminal is free\n",
    "\n",
    "Under this circumstance, we have $\\delta x(t_0) \\neq 0$ and $\\delta x(t_f) \\neq 0$.\n",
    "Hence, we need to have \n",
    "\\begin{align*}\n",
    "    \\bigg( \\frac{\\partial F}{\\partial \\dot{x}}\\bigg)_{t_f}  = \\bigg( \\frac{\\partial F}{\\partial \\dot{x}}\\bigg)_{t_0} = 0\n",
    "\\end{align*}"
   ]
  },
  {
   "cell_type": "markdown",
   "id": "13ab5018",
   "metadata": {},
   "source": [
    "# Part 3. Variation theory on functional extremum (When there are extra conditions)"
   ]
  },
  {
   "cell_type": "markdown",
   "id": "eaf13f85",
   "metadata": {},
   "source": [
    "However, the above results are far from sufficient. \n",
    "In control engineering,\n",
    "it is impossible to have a system that is free of any requirements because the system must be subjected to a certain dynamic function.\n",
    "Let alone the situations where the control input is also restricted or affected by phenomenons such as input saturation and external disturbances. \n",
    "\n",
    "Hence,\n",
    "we will start with the easiest circumstance where the system is subjected to a certain dynamic function as follows:\n",
    "\\begin{align*}\n",
    "    \\dot{x} = f[x(t), u(t), t]\n",
    "\\end{align*}\n",
    "where $x(t) \\in \\mathbb{R}^n$ and $u(t) \\in \\mathbb{R}^m$. \n",
    "\n",
    "Note that $x(t)$ needs to be obtained through the principle of the minimum or dynamic programming. \n",
    "\n",
    "The system performance is quantised by the following function:\n",
    "\\begin{align*}\n",
    "    J = \\phi[x(t_f), t_f] + \\int_{t_0}^{t_f} F[x(t), u(t), t] dt\n",
    "\\end{align*}\n",
    "\n",
    "And there are three main cases:"
   ]
  },
  {
   "cell_type": "markdown",
   "id": "db7e329e",
   "metadata": {},
   "source": [
    "> $t_f$ is fixed, while $x(t_f)$ is free\n",
    "\n",
    "First, we introduce a scalar function (the Hamilton function)\n",
    "\\begin{align*}\n",
    "    H(x, u, \\lambda, t) = F(x, u, t) + \\lambda^{\\rm T} f(x, u, t)\n",
    "\\end{align*}\n",
    "where $\\lambda \\in \\mathbb{R}^n$.\n",
    "\n",
    "Then the target function is altered to\n",
    "\\begin{align*}\n",
    "    J_a = \\phi[x(t_f), t_f] + \\int_{t_0}^{t_f} [H(x, u, \\lambda, t) - \\lambda^{\\rm T} \\dot{x} ]dt\n",
    "\\end{align*}\n",
    "\n",
    "According to the rules of integration by parts,\n",
    "we have \n",
    "\\begin{align*}\n",
    "    J_a = \\phi[x(t_f), t_f] - \\lambda(t_f)^{\\rm T} x(t_f) + \\lambda(t_0)^{\\rm T} x(t_0) + \\int_{t_0}^{t_f} [H(x, u, \\lambda, t) - \\dot{\\lambda}^{\\rm T} x ]dt\n",
    "\\end{align*}\n",
    "\n",
    "To achieve $\\delta J_a = 0$ with $\\delta x$, $\\delta u$ and $\\delta x(t_f)$ having arbitrary values,\n",
    "we need to have\n",
    "\\begin{align*}\n",
    "    & \\dot{\\lambda} = \\frac{\\partial H}{\\partial x} \\\\\n",
    "    & \\dot{x} = \\frac{\\partial H}{\\partial \\lambda} {\\rm \\ (System \\ dynamics)} \\\\\n",
    "    & \\frac{\\partial H}{\\partial u} = 0 \\\\\n",
    "    & \\lambda(t_f) = \\frac{\\partial \\phi}{\\partial x(t_f)}\n",
    "\\end{align*}\n"
   ]
  },
  {
   "cell_type": "markdown",
   "id": "6505ab7c",
   "metadata": {},
   "source": [
    "> $t_f$ is free, while $x(t_f)$ is restricted\n",
    "\n",
    "Suppose the terminal system state is restricted by the function of $G[x(t_f), t_f] = 0_q$,\n",
    "then we have a new performance function as follows:\n",
    "\\begin{align*}\n",
    "    J_b = \\theta[x(t_f), t_f] + \\int_{t_0}^{t_f} [H(x, u, \\lambda, t) - \\dot{\\lambda}^{\\rm T} x ]dt\n",
    "\\end{align*}\n",
    "where $\\theta[x(t_f), t_f] = \\phi[x(t_f), t_f] + v^{\\rm T} G[x(t_f), t_f]$.\n",
    "\n",
    "To ensure $J_b = 0$,\n",
    "there is\n",
    "\\begin{align*}\n",
    "    & \\dot{\\lambda} = \\frac{\\partial H}{\\partial x} \\\\\n",
    "    & \\dot{x} = \\frac{\\partial H}{\\partial \\lambda} {\\rm \\ (System \\ dynamics)} \\\\\n",
    "    & \\frac{\\partial H}{\\partial u} = 0 \\\\\n",
    "    & \\lambda(t_f) = \\frac{\\partial \\theta}{\\partial x(t_f)} = \\frac{\\partial \\phi}{\\partial x(t_f)} + \\frac{\\partial G^{\\rm T}}{\\partial x(t_f)} v \\\\\n",
    "    & H(t_f) = - \\frac{\\partial \\theta}{\\partial t_f} = - \\frac{\\partial \\phi}{\\partial t_f}- \\frac{\\partial G^{\\rm T}}{\\partial t_f} v\n",
    "\\end{align*}\n"
   ]
  },
  {
   "cell_type": "markdown",
   "id": "25175dbf",
   "metadata": {},
   "source": [
    "> $t_f$ is fixed, while $x(t_f)$ is restricted\n",
    "\n",
    "Similar to the above situation, \n",
    "we have \n",
    "\\begin{align*}\n",
    "    J_b = \\theta[x(t_f), t_f] + \\int_{t_0}^{t_f} [H(x, u, \\lambda, t) - \\dot{\\lambda}^{\\rm T} x ]dt\n",
    "\\end{align*}\n",
    "\n",
    "What's different is that $\\delta t_f = 0$.\n",
    "Hence,\n",
    "the conditions are simplified to \n",
    "\\begin{align*}\n",
    "    & \\dot{\\lambda} = \\frac{\\partial H}{\\partial x} \\\\\n",
    "    & \\dot{x} = \\frac{\\partial H}{\\partial \\lambda} {\\rm \\ (System \\ dynamics)} \\\\\n",
    "    & \\frac{\\partial H}{\\partial u} = 0 \\\\\n",
    "    & \\lambda(t_f) = \\frac{\\partial \\theta}{\\partial x(t_f)} = \\frac{\\partial \\phi}{\\partial x(t_f)} + \\frac{\\partial G^{\\rm T}}{\\partial x(t_f)} v\n",
    "\\end{align*}\n"
   ]
  },
  {
   "cell_type": "markdown",
   "id": "f536f2cf",
   "metadata": {},
   "source": [
    "# Part 4. Principle of the minimum value"
   ]
  },
  {
   "cell_type": "markdown",
   "id": "4a4c31f0",
   "metadata": {},
   "source": [
    "## Motivation of developing the principle of the minimum value\n",
    "\n",
    "The variation principle is based on the assumption that the control input $u$ is not restricted and $\\frac{\\partial H}{\\partial u}$ always exists. However, these assumptions are hard to satisfy in practical scenarios.For example, the practical actuators are usually restricted by input saturation phenomenon, meaning that the acceptable control input belongs to a closed set."
   ]
  },
  {
   "cell_type": "markdown",
   "id": "6991e185",
   "metadata": {},
   "source": [
    "## Principles for continuous time systems\n",
    "\n",
    "To cope with the issues of $\\delta u$ can not be chosen arbitrarily,\n",
    "the principle of the minimum value is proposed in 1956. \n",
    "The specific conditions to satisfy are\n",
    "\\begin{align*}\n",
    "    & \\dot{\\lambda} = \\frac{\\partial H}{\\partial x} \\\\\n",
    "    & \\dot{x} = \\frac{\\partial H}{\\partial \\lambda} {\\rm \\ (System \\ dynamics)} \\\\\n",
    "    & \\lambda(t_f) = \\frac{\\partial \\theta}{\\partial x(t_f)} = \\frac{\\partial \\phi}{\\partial x(t_f)} + \\frac{\\partial G^{\\rm T}}{\\partial x(t_f)} v \\\\\n",
    "    & H(t_f) = - \\frac{\\partial \\theta}{\\partial t_f} = - \\frac{\\partial \\phi}{\\partial t_f}- \\frac{\\partial G^{\\rm T}}{\\partial t_f} v \\\\\n",
    "    & {\\rm min}H_{u \\in \\Omega} (x^*, \\lambda^*, u, t) = H(x^*, \\lambda^*, u^*, t) \n",
    "\\end{align*}"
   ]
  },
  {
   "cell_type": "code",
   "execution_count": null,
   "id": "e03ef762",
   "metadata": {},
   "outputs": [],
   "source": []
  },
  {
   "cell_type": "code",
   "execution_count": null,
   "id": "66fcb1fd",
   "metadata": {},
   "outputs": [],
   "source": []
  }
 ],
 "metadata": {
  "kernelspec": {
   "display_name": "Python 3 (ipykernel)",
   "language": "python",
   "name": "python3"
  },
  "language_info": {
   "codemirror_mode": {
    "name": "ipython",
    "version": 3
   },
   "file_extension": ".py",
   "mimetype": "text/x-python",
   "name": "python",
   "nbconvert_exporter": "python",
   "pygments_lexer": "ipython3",
   "version": "3.9.13"
  }
 },
 "nbformat": 4,
 "nbformat_minor": 5
}
